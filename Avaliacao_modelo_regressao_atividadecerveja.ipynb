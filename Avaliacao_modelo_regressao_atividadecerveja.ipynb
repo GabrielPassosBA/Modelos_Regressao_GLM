{
 "cells": [
  {
   "cell_type": "markdown",
   "metadata": {
    "id": "Ld5j__63oigC"
   },
   "source": [
    "Importando bibliotecas"
   ]
  },
  {
   "cell_type": "code",
   "execution_count": 6,
   "metadata": {
    "id": "5hUt3GzZoPcy"
   },
   "outputs": [],
   "source": [
    "import pandas as pd\n",
    "import numpy as np\n",
    "import matplotlib.pyplot as plt\n",
    "import seaborn as sns\n",
    "import statsmodels.api as sm\n",
    "import scipy.stats as stats\n",
    "import statsmodels.stats.api as sms\n",
    "from scipy.stats import boxcox"
   ]
  },
  {
   "cell_type": "markdown",
   "metadata": {
    "id": "KMMZYqcjof5L"
   },
   "source": [
    "Importando o data set"
   ]
  },
  {
   "cell_type": "code",
   "execution_count": 9,
   "metadata": {
    "id": "Hh14ZB8foYZC"
   },
   "outputs": [],
   "source": [
    "cerveja = pd.read_csv('Consumo_cerveja_1 (1).csv')"
   ]
  },
  {
   "cell_type": "markdown",
   "metadata": {
    "id": "8OiyBpnTovV6"
   },
   "source": [
    "Análise exploratória dos dados"
   ]
  },
  {
   "cell_type": "markdown",
   "metadata": {
    "id": "CYpmTgRqpAui"
   },
   "source": [
    "Primeiras observações da base de dados."
   ]
  },
  {
   "cell_type": "code",
   "execution_count": 10,
   "metadata": {
    "id": "V3pPg99mo1BK"
   },
   "outputs": [
    {
     "data": {
      "text/html": [
       "<div>\n",
       "<style scoped>\n",
       "    .dataframe tbody tr th:only-of-type {\n",
       "        vertical-align: middle;\n",
       "    }\n",
       "\n",
       "    .dataframe tbody tr th {\n",
       "        vertical-align: top;\n",
       "    }\n",
       "\n",
       "    .dataframe thead th {\n",
       "        text-align: right;\n",
       "    }\n",
       "</style>\n",
       "<table border=\"1\" class=\"dataframe\">\n",
       "  <thead>\n",
       "    <tr style=\"text-align: right;\">\n",
       "      <th></th>\n",
       "      <th>Data</th>\n",
       "      <th>Temperatura_Media</th>\n",
       "      <th>Temperatura_Minima</th>\n",
       "      <th>Temperatura_Maxima</th>\n",
       "      <th>Precipitacao</th>\n",
       "      <th>Final_de_Semana</th>\n",
       "      <th>Consumo</th>\n",
       "    </tr>\n",
       "  </thead>\n",
       "  <tbody>\n",
       "    <tr>\n",
       "      <th>0</th>\n",
       "      <td>01/01/2015</td>\n",
       "      <td>27.30</td>\n",
       "      <td>23.9</td>\n",
       "      <td>32.5</td>\n",
       "      <td>0.0</td>\n",
       "      <td>0</td>\n",
       "      <td>25.461</td>\n",
       "    </tr>\n",
       "    <tr>\n",
       "      <th>1</th>\n",
       "      <td>02/01/2015</td>\n",
       "      <td>27.02</td>\n",
       "      <td>24.5</td>\n",
       "      <td>33.5</td>\n",
       "      <td>0.0</td>\n",
       "      <td>0</td>\n",
       "      <td>28.972</td>\n",
       "    </tr>\n",
       "    <tr>\n",
       "      <th>2</th>\n",
       "      <td>03/01/2015</td>\n",
       "      <td>24.82</td>\n",
       "      <td>22.4</td>\n",
       "      <td>29.9</td>\n",
       "      <td>0.0</td>\n",
       "      <td>1</td>\n",
       "      <td>30.814</td>\n",
       "    </tr>\n",
       "    <tr>\n",
       "      <th>3</th>\n",
       "      <td>04/01/2015</td>\n",
       "      <td>23.98</td>\n",
       "      <td>21.5</td>\n",
       "      <td>28.6</td>\n",
       "      <td>1.2</td>\n",
       "      <td>1</td>\n",
       "      <td>29.799</td>\n",
       "    </tr>\n",
       "    <tr>\n",
       "      <th>4</th>\n",
       "      <td>05/01/2015</td>\n",
       "      <td>23.82</td>\n",
       "      <td>21.0</td>\n",
       "      <td>28.3</td>\n",
       "      <td>0.0</td>\n",
       "      <td>0</td>\n",
       "      <td>28.900</td>\n",
       "    </tr>\n",
       "  </tbody>\n",
       "</table>\n",
       "</div>"
      ],
      "text/plain": [
       "         Data  Temperatura_Media  Temperatura_Minima  Temperatura_Maxima  \\\n",
       "0  01/01/2015              27.30                23.9                32.5   \n",
       "1  02/01/2015              27.02                24.5                33.5   \n",
       "2  03/01/2015              24.82                22.4                29.9   \n",
       "3  04/01/2015              23.98                21.5                28.6   \n",
       "4  05/01/2015              23.82                21.0                28.3   \n",
       "\n",
       "   Precipitacao  Final_de_Semana  Consumo  \n",
       "0           0.0                0   25.461  \n",
       "1           0.0                0   28.972  \n",
       "2           0.0                1   30.814  \n",
       "3           1.2                1   29.799  \n",
       "4           0.0                0   28.900  "
      ]
     },
     "execution_count": 10,
     "metadata": {},
     "output_type": "execute_result"
    }
   ],
   "source": [
    "cerveja.head()"
   ]
  },
  {
   "cell_type": "markdown",
   "metadata": {
    "id": "4d8z5IkgpBzj"
   },
   "source": [
    "Últimas Observações"
   ]
  },
  {
   "cell_type": "code",
   "execution_count": 11,
   "metadata": {
    "id": "2YwALRn7o786"
   },
   "outputs": [
    {
     "data": {
      "text/html": [
       "<div>\n",
       "<style scoped>\n",
       "    .dataframe tbody tr th:only-of-type {\n",
       "        vertical-align: middle;\n",
       "    }\n",
       "\n",
       "    .dataframe tbody tr th {\n",
       "        vertical-align: top;\n",
       "    }\n",
       "\n",
       "    .dataframe thead th {\n",
       "        text-align: right;\n",
       "    }\n",
       "</style>\n",
       "<table border=\"1\" class=\"dataframe\">\n",
       "  <thead>\n",
       "    <tr style=\"text-align: right;\">\n",
       "      <th></th>\n",
       "      <th>Data</th>\n",
       "      <th>Temperatura_Media</th>\n",
       "      <th>Temperatura_Minima</th>\n",
       "      <th>Temperatura_Maxima</th>\n",
       "      <th>Precipitacao</th>\n",
       "      <th>Final_de_Semana</th>\n",
       "      <th>Consumo</th>\n",
       "    </tr>\n",
       "  </thead>\n",
       "  <tbody>\n",
       "    <tr>\n",
       "      <th>360</th>\n",
       "      <td>27/12/2015</td>\n",
       "      <td>24.00</td>\n",
       "      <td>21.1</td>\n",
       "      <td>28.2</td>\n",
       "      <td>13.6</td>\n",
       "      <td>1</td>\n",
       "      <td>32.307</td>\n",
       "    </tr>\n",
       "    <tr>\n",
       "      <th>361</th>\n",
       "      <td>28/12/2015</td>\n",
       "      <td>22.64</td>\n",
       "      <td>21.1</td>\n",
       "      <td>26.7</td>\n",
       "      <td>0.0</td>\n",
       "      <td>0</td>\n",
       "      <td>26.095</td>\n",
       "    </tr>\n",
       "    <tr>\n",
       "      <th>362</th>\n",
       "      <td>29/12/2015</td>\n",
       "      <td>21.68</td>\n",
       "      <td>20.3</td>\n",
       "      <td>24.1</td>\n",
       "      <td>10.3</td>\n",
       "      <td>0</td>\n",
       "      <td>22.309</td>\n",
       "    </tr>\n",
       "    <tr>\n",
       "      <th>363</th>\n",
       "      <td>30/12/2015</td>\n",
       "      <td>21.38</td>\n",
       "      <td>19.3</td>\n",
       "      <td>22.4</td>\n",
       "      <td>6.3</td>\n",
       "      <td>0</td>\n",
       "      <td>20.467</td>\n",
       "    </tr>\n",
       "    <tr>\n",
       "      <th>364</th>\n",
       "      <td>31/12/2015</td>\n",
       "      <td>24.76</td>\n",
       "      <td>20.2</td>\n",
       "      <td>29.0</td>\n",
       "      <td>0.0</td>\n",
       "      <td>0</td>\n",
       "      <td>22.446</td>\n",
       "    </tr>\n",
       "  </tbody>\n",
       "</table>\n",
       "</div>"
      ],
      "text/plain": [
       "           Data  Temperatura_Media  Temperatura_Minima  Temperatura_Maxima  \\\n",
       "360  27/12/2015              24.00                21.1                28.2   \n",
       "361  28/12/2015              22.64                21.1                26.7   \n",
       "362  29/12/2015              21.68                20.3                24.1   \n",
       "363  30/12/2015              21.38                19.3                22.4   \n",
       "364  31/12/2015              24.76                20.2                29.0   \n",
       "\n",
       "     Precipitacao  Final_de_Semana  Consumo  \n",
       "360          13.6                1   32.307  \n",
       "361           0.0                0   26.095  \n",
       "362          10.3                0   22.309  \n",
       "363           6.3                0   20.467  \n",
       "364           0.0                0   22.446  "
      ]
     },
     "execution_count": 11,
     "metadata": {},
     "output_type": "execute_result"
    }
   ],
   "source": [
    "cerveja.tail()"
   ]
  },
  {
   "cell_type": "markdown",
   "metadata": {
    "id": "wvqK86Rx0aZf"
   },
   "source": [
    "Dimensão da base de dados: são 365 observações e 7 variáveis."
   ]
  },
  {
   "cell_type": "code",
   "execution_count": 12,
   "metadata": {
    "id": "R3SGq8Gp0c3p"
   },
   "outputs": [
    {
     "data": {
      "text/plain": [
       "(365, 7)"
      ]
     },
     "execution_count": 12,
     "metadata": {},
     "output_type": "execute_result"
    }
   ],
   "source": [
    "cerveja.shape"
   ]
  },
  {
   "cell_type": "markdown",
   "metadata": {
    "id": "D5BH2m_F0g8n"
   },
   "source": [
    "Validação de observações nulas (NULL)\n"
   ]
  },
  {
   "cell_type": "code",
   "execution_count": 13,
   "metadata": {
    "id": "7OQMxJeF0hi4"
   },
   "outputs": [
    {
     "data": {
      "text/plain": [
       "Data                  0\n",
       "Temperatura_Media     0\n",
       "Temperatura_Minima    0\n",
       "Temperatura_Maxima    0\n",
       "Precipitacao          0\n",
       "Final_de_Semana       0\n",
       "Consumo               0\n",
       "dtype: int64"
      ]
     },
     "execution_count": 13,
     "metadata": {},
     "output_type": "execute_result"
    }
   ],
   "source": [
    "cerveja.isna().sum()"
   ]
  },
  {
   "cell_type": "markdown",
   "metadata": {
    "id": "pqiV9ysL0qk2"
   },
   "source": [
    "Tipo das variáveis."
   ]
  },
  {
   "cell_type": "code",
   "execution_count": 14,
   "metadata": {
    "id": "pszfq_BK0r-2"
   },
   "outputs": [
    {
     "data": {
      "text/plain": [
       "Data                   object\n",
       "Temperatura_Media     float64\n",
       "Temperatura_Minima    float64\n",
       "Temperatura_Maxima    float64\n",
       "Precipitacao          float64\n",
       "Final_de_Semana         int64\n",
       "Consumo               float64\n",
       "dtype: object"
      ]
     },
     "execution_count": 14,
     "metadata": {},
     "output_type": "execute_result"
    }
   ],
   "source": [
    "cerveja.dtypes"
   ]
  },
  {
   "cell_type": "markdown",
   "metadata": {
    "id": "jMk3cmYk0zie"
   },
   "source": [
    "Tabela descritiva das variáveis"
   ]
  },
  {
   "cell_type": "code",
   "execution_count": 15,
   "metadata": {
    "id": "5Er8kUjd04uv",
    "scrolled": true
   },
   "outputs": [
    {
     "data": {
      "text/html": [
       "<div>\n",
       "<style scoped>\n",
       "    .dataframe tbody tr th:only-of-type {\n",
       "        vertical-align: middle;\n",
       "    }\n",
       "\n",
       "    .dataframe tbody tr th {\n",
       "        vertical-align: top;\n",
       "    }\n",
       "\n",
       "    .dataframe thead th {\n",
       "        text-align: right;\n",
       "    }\n",
       "</style>\n",
       "<table border=\"1\" class=\"dataframe\">\n",
       "  <thead>\n",
       "    <tr style=\"text-align: right;\">\n",
       "      <th></th>\n",
       "      <th>Temperatura_Media</th>\n",
       "      <th>Temperatura_Minima</th>\n",
       "      <th>Temperatura_Maxima</th>\n",
       "      <th>Precipitacao</th>\n",
       "      <th>Final_de_Semana</th>\n",
       "      <th>Consumo</th>\n",
       "    </tr>\n",
       "  </thead>\n",
       "  <tbody>\n",
       "    <tr>\n",
       "      <th>count</th>\n",
       "      <td>365.000000</td>\n",
       "      <td>365.000000</td>\n",
       "      <td>365.000000</td>\n",
       "      <td>365.000000</td>\n",
       "      <td>365.000000</td>\n",
       "      <td>365.000000</td>\n",
       "    </tr>\n",
       "    <tr>\n",
       "      <th>mean</th>\n",
       "      <td>21.226356</td>\n",
       "      <td>17.461370</td>\n",
       "      <td>26.611507</td>\n",
       "      <td>5.196712</td>\n",
       "      <td>0.284932</td>\n",
       "      <td>25.401367</td>\n",
       "    </tr>\n",
       "    <tr>\n",
       "      <th>std</th>\n",
       "      <td>3.180108</td>\n",
       "      <td>2.826185</td>\n",
       "      <td>4.317366</td>\n",
       "      <td>12.417844</td>\n",
       "      <td>0.452001</td>\n",
       "      <td>4.399143</td>\n",
       "    </tr>\n",
       "    <tr>\n",
       "      <th>min</th>\n",
       "      <td>12.900000</td>\n",
       "      <td>10.600000</td>\n",
       "      <td>14.500000</td>\n",
       "      <td>0.000000</td>\n",
       "      <td>0.000000</td>\n",
       "      <td>14.343000</td>\n",
       "    </tr>\n",
       "    <tr>\n",
       "      <th>25%</th>\n",
       "      <td>19.020000</td>\n",
       "      <td>15.300000</td>\n",
       "      <td>23.800000</td>\n",
       "      <td>0.000000</td>\n",
       "      <td>0.000000</td>\n",
       "      <td>22.008000</td>\n",
       "    </tr>\n",
       "    <tr>\n",
       "      <th>50%</th>\n",
       "      <td>21.380000</td>\n",
       "      <td>17.900000</td>\n",
       "      <td>26.900000</td>\n",
       "      <td>0.000000</td>\n",
       "      <td>0.000000</td>\n",
       "      <td>24.867000</td>\n",
       "    </tr>\n",
       "    <tr>\n",
       "      <th>75%</th>\n",
       "      <td>23.280000</td>\n",
       "      <td>19.600000</td>\n",
       "      <td>29.400000</td>\n",
       "      <td>3.200000</td>\n",
       "      <td>1.000000</td>\n",
       "      <td>28.631000</td>\n",
       "    </tr>\n",
       "    <tr>\n",
       "      <th>max</th>\n",
       "      <td>28.860000</td>\n",
       "      <td>24.500000</td>\n",
       "      <td>36.500000</td>\n",
       "      <td>94.800000</td>\n",
       "      <td>1.000000</td>\n",
       "      <td>37.937000</td>\n",
       "    </tr>\n",
       "  </tbody>\n",
       "</table>\n",
       "</div>"
      ],
      "text/plain": [
       "       Temperatura_Media  Temperatura_Minima  Temperatura_Maxima  \\\n",
       "count         365.000000          365.000000          365.000000   \n",
       "mean           21.226356           17.461370           26.611507   \n",
       "std             3.180108            2.826185            4.317366   \n",
       "min            12.900000           10.600000           14.500000   \n",
       "25%            19.020000           15.300000           23.800000   \n",
       "50%            21.380000           17.900000           26.900000   \n",
       "75%            23.280000           19.600000           29.400000   \n",
       "max            28.860000           24.500000           36.500000   \n",
       "\n",
       "       Precipitacao  Final_de_Semana     Consumo  \n",
       "count    365.000000       365.000000  365.000000  \n",
       "mean       5.196712         0.284932   25.401367  \n",
       "std       12.417844         0.452001    4.399143  \n",
       "min        0.000000         0.000000   14.343000  \n",
       "25%        0.000000         0.000000   22.008000  \n",
       "50%        0.000000         0.000000   24.867000  \n",
       "75%        3.200000         1.000000   28.631000  \n",
       "max       94.800000         1.000000   37.937000  "
      ]
     },
     "execution_count": 15,
     "metadata": {},
     "output_type": "execute_result"
    }
   ],
   "source": [
    "cerveja.describe()"
   ]
  },
  {
   "cell_type": "code",
   "execution_count": 16,
   "metadata": {},
   "outputs": [],
   "source": [
    "cerveja_numeric = cerveja.select_dtypes(include=['float64', 'int64'])"
   ]
  },
  {
   "cell_type": "markdown",
   "metadata": {
    "id": "4tGf0y2v05mm"
   },
   "source": [
    "Gráfico correlograma"
   ]
  },
  {
   "cell_type": "code",
   "execution_count": 17,
   "metadata": {
    "id": "eSBPDTdF1Ipm"
   },
   "outputs": [
    {
     "data": {
      "image/png": "[encoded data removed]",
      "text/plain": [
       "<Figure size 2000x800 with 2 Axes>"
      ]
     },
     "metadata": {},
     "output_type": "display_data"
    }
   ],
   "source": [
    "plt.figure(figsize=(20,8))\n",
    "sns.heatmap(cerveja_numeric.corr(), annot = True, cmap= \"RdYlGn\");\n",
    "plt.title('Correlação de Pearson',size=15);"
   ]
  },
  {
   "cell_type": "markdown",
   "metadata": {
    "id": "jyJJ6Bi31Nlu"
   },
   "source": [
    "As maiores correlação são temperatura máxima , temperatura média e final de semana"
   ]
  },
  {
   "cell_type": "code",
   "execution_count": 18,
   "metadata": {
    "id": "VMpNN15M4g6s"
   },
   "outputs": [],
   "source": [
    "#Variáveis independentes\n",
    "X = cerveja.drop(['Consumo','Data'],axis=1)\n",
    "#Variável dependentes\n",
    "y = cerveja['Consumo']"
   ]
  },
  {
   "cell_type": "code",
   "execution_count": 19,
   "metadata": {},
   "outputs": [
    {
     "name": "stdout",
     "output_type": "stream",
     "text": [
      "Análise do Modelo:\n",
      "                            OLS Regression Results                            \n",
      "==============================================================================\n",
      "Dep. Variable:                Consumo   R-squared:                       0.696\n",
      "Model:                            OLS   Adj. R-squared:                  0.695\n",
      "Method:                 Least Squares   F-statistic:                     415.1\n",
      "Date:                Sat, 03 May 2025   Prob (F-statistic):           2.03e-94\n",
      "Time:                        21:10:24   Log-Likelihood:                -840.61\n",
      "No. Observations:                 365   AIC:                             1687.\n",
      "Df Residuals:                     362   BIC:                             1699.\n",
      "Df Model:                           2                                         \n",
      "Covariance Type:            nonrobust                                         \n",
      "======================================================================================\n",
      "                         coef    std err          t      P>|t|      [0.025      0.975]\n",
      "--------------------------------------------------------------------------------------\n",
      "Intercept              5.9161      0.803      7.364      0.000       4.336       7.496\n",
      "Temperatura_Maxima     0.6767      0.030     22.912      0.000       0.619       0.735\n",
      "Final_de_Semana        5.1847      0.282     18.379      0.000       4.630       5.739\n",
      "==============================================================================\n",
      "Omnibus:                        0.419   Durbin-Watson:                   1.887\n",
      "Prob(Omnibus):                  0.811   Jarque-Bera (JB):                0.545\n",
      "Skew:                          -0.040   Prob(JB):                        0.762\n",
      "Kurtosis:                       2.829   Cond. No.                         171.\n",
      "==============================================================================\n",
      "\n",
      "Notes:\n",
      "[1] Standard Errors assume that the covariance matrix of the errors is correctly specified.\n"
     ]
    }
   ],
   "source": [
    "m1 = sm.OLS.from_formula(\"Consumo ~  Temperatura_Maxima + Final_de_Semana\", data=cerveja)\n",
    "modelo = m1.fit()\n",
    "print(\"Análise do Modelo:\")\n",
    "print(modelo.summary())"
   ]
  },
  {
   "cell_type": "code",
   "execution_count": 20,
   "metadata": {},
   "outputs": [
    {
     "data": {
      "text/plain": [
       "0     -2.447811\n",
       "1      0.386491\n",
       "2     -0.520109\n",
       "3     -0.655401\n",
       "4      3.833321\n",
       "         ...   \n",
       "360    2.123278\n",
       "361    2.111038\n",
       "362    0.084453\n",
       "363   -0.607160\n",
       "364   -3.094368\n",
       "Length: 365, dtype: float64"
      ]
     },
     "execution_count": 20,
     "metadata": {},
     "output_type": "execute_result"
    }
   ],
   "source": [
    "residuos = modelo.resid\n",
    "residuos"
   ]
  },
  {
   "cell_type": "code",
   "execution_count": 21,
   "metadata": {},
   "outputs": [
    {
     "data": {
      "image/png": "[encoded data removed]",
      "text/plain": [
       "<Figure size 640x480 with 1 Axes>"
      ]
     },
     "metadata": {},
     "output_type": "display_data"
    }
   ],
   "source": [
    "stats.probplot(residuos, dist='norm', plot=plt)\n",
    "plt.show()"
   ]
  },
  {
   "cell_type": "code",
   "execution_count": 22,
   "metadata": {},
   "outputs": [],
   "source": [
    "estatistica, p = stats.shapiro(residuos)"
   ]
  },
  {
   "cell_type": "code",
   "execution_count": 23,
   "metadata": {},
   "outputs": [
    {
     "name": "stdout",
     "output_type": "stream",
     "text": [
      "Estatística de teste: 0.9883790546593744\n",
      "p-valor: 0.005213638994497414\n"
     ]
    }
   ],
   "source": [
    "print('Estatística de teste: {}'.format(estatistica))\n",
    "print('p-valor: {}'.format(p))"
   ]
  },
  {
   "cell_type": "code",
   "execution_count": 24,
   "metadata": {},
   "outputs": [],
   "source": [
    "transformed_data, lambda_value = boxcox(y)"
   ]
  },
  {
   "cell_type": "code",
   "execution_count": 25,
   "metadata": {},
   "outputs": [
    {
     "name": "stdout",
     "output_type": "stream",
     "text": [
      "Valor de lambda estimado: 0.3205\n"
     ]
    }
   ],
   "source": [
    "# Exibindo o lambda estimado\n",
    "print(f\"Valor de lambda estimado: {lambda_value:.4f}\")"
   ]
  },
  {
   "cell_type": "code",
   "execution_count": 26,
   "metadata": {},
   "outputs": [
    {
     "data": {
      "image/png": "[encoded data removed]",
      "text/plain": [
       "<Figure size 1200x600 with 2 Axes>"
      ]
     },
     "metadata": {},
     "output_type": "display_data"
    }
   ],
   "source": [
    "# Plotando antes e depois da transformação\n",
    "plt.figure(figsize=(12, 6))\n",
    "\n",
    "plt.subplot(1, 2, 1)\n",
    "plt.hist(y, bins=30, color='skyblue', edgecolor='black')\n",
    "plt.title('Distribuição Original')\n",
    "plt.xlabel('Valor')\n",
    "plt.ylabel('Frequência')\n",
    "\n",
    "plt.subplot(1, 2, 2)\n",
    "plt.hist(transformed_data, bins=30, color='lightcoral', edgecolor='black')\n",
    "plt.title('Distribuição Após Box-Cox')\n",
    "plt.xlabel('Valor')\n",
    "plt.ylabel('Frequência')\n",
    "\n",
    "plt.tight_layout()\n",
    "plt.show()"
   ]
  },
  {
   "cell_type": "code",
   "execution_count": 27,
   "metadata": {},
   "outputs": [
    {
     "name": "stdout",
     "output_type": "stream",
     "text": [
      "Análise do Modelo:\n",
      "                            OLS Regression Results                            \n",
      "==============================================================================\n",
      "Dep. Variable:       transformed_data   R-squared:                       0.698\n",
      "Model:                            OLS   Adj. R-squared:                  0.696\n",
      "Method:                 Least Squares   F-statistic:                     418.5\n",
      "Date:                Sat, 03 May 2025   Prob (F-statistic):           7.30e-95\n",
      "Time:                        21:10:28   Log-Likelihood:                -37.746\n",
      "No. Observations:                 365   AIC:                             81.49\n",
      "Df Residuals:                     362   BIC:                             93.19\n",
      "Df Model:                           2                                         \n",
      "Covariance Type:            nonrobust                                         \n",
      "======================================================================================\n",
      "                         coef    std err          t      P>|t|      [0.025      0.975]\n",
      "--------------------------------------------------------------------------------------\n",
      "Intercept              3.4626      0.089     38.882      0.000       3.287       3.638\n",
      "Temperatura_Maxima     0.0761      0.003     23.247      0.000       0.070       0.083\n",
      "Final_de_Semana        0.5673      0.031     18.142      0.000       0.506       0.629\n",
      "==============================================================================\n",
      "Omnibus:                        2.236   Durbin-Watson:                   1.866\n",
      "Prob(Omnibus):                  0.327   Jarque-Bera (JB):                2.316\n",
      "Skew:                          -0.180   Prob(JB):                        0.314\n",
      "Kurtosis:                       2.851   Cond. No.                         171.\n",
      "==============================================================================\n",
      "\n",
      "Notes:\n",
      "[1] Standard Errors assume that the covariance matrix of the errors is correctly specified.\n"
     ]
    }
   ],
   "source": [
    "#cerveja['transformed_data'] = transformed_data\n",
    "m2 = sm.OLS.from_formula(\"transformed_data ~  Temperatura_Maxima + Final_de_Semana\", data=cerveja)\n",
    "modelo2 = m2.fit()\n",
    "print(\"Análise do Modelo:\")\n",
    "print(modelo2.summary())"
   ]
  },
  {
   "cell_type": "code",
   "execution_count": 28,
   "metadata": {},
   "outputs": [
    {
     "data": {
      "text/plain": [
       "0     -0.251164\n",
       "1      0.044896\n",
       "2     -0.065335\n",
       "3     -0.066332\n",
       "4      0.433330\n",
       "         ...   \n",
       "360    0.207054\n",
       "361    0.259926\n",
       "362    0.022998\n",
       "363   -0.077516\n",
       "364   -0.333345\n",
       "Length: 365, dtype: float64"
      ]
     },
     "execution_count": 28,
     "metadata": {},
     "output_type": "execute_result"
    }
   ],
   "source": [
    "residuos2 = modelo2.resid\n",
    "residuos2"
   ]
  },
  {
   "cell_type": "code",
   "execution_count": 29,
   "metadata": {},
   "outputs": [],
   "source": [
    "estatistica, p = stats.shapiro(residuos2)"
   ]
  },
  {
   "cell_type": "code",
   "execution_count": 30,
   "metadata": {},
   "outputs": [
    {
     "name": "stdout",
     "output_type": "stream",
     "text": [
      "Estatística de teste: 0.9862257223432489\n",
      "p-valor: 0.0015178592838306013\n"
     ]
    }
   ],
   "source": [
    "print('Estatística de teste: {}'.format(estatistica))\n",
    "print('p-valor: {}'.format(p))"
   ]
  },
  {
   "cell_type": "markdown",
   "metadata": {},
   "source": [
    "### Análise da Homocedasticidade dos resíduos\n",
    "(resíduos com variação constante)"
   ]
  },
  {
   "cell_type": "code",
   "execution_count": 32,
   "metadata": {},
   "outputs": [
    {
     "data": {
      "image/png": "[encoded data removed]",
      "text/plain": [
       "<Figure size 640x480 with 1 Axes>"
      ]
     },
     "metadata": {},
     "output_type": "display_data"
    }
   ],
   "source": [
    "plt.scatter(y=residuos2, x=modelo2.predict(), color='red')\n",
    "plt.hlines(y=0, xmin= 4.5, xmax=7, color='orange')\n",
    "plt.ylabel('Resíduos')\n",
    "plt.xlabel('Valores Preditos')\n",
    "plt.show()"
   ]
  },
  {
   "cell_type": "markdown",
   "metadata": {},
   "source": [
    "**Teste Breusch-Pagan (Homocedasticidade ou heterocedasticidade)**"
   ]
  },
  {
   "cell_type": "markdown",
   "metadata": {},
   "source": [
    "Ho = existe homocedasticidade : p > 0.05\n",
    "\n",
    "Ha = não existe homocedasticidade : p <= 0.05"
   ]
  },
  {
   "cell_type": "code",
   "execution_count": 33,
   "metadata": {},
   "outputs": [],
   "source": [
    "from statsmodels.compat import lzip"
   ]
  },
  {
   "cell_type": "code",
   "execution_count": 34,
   "metadata": {},
   "outputs": [
    {
     "name": "stdout",
     "output_type": "stream",
     "text": [
      "Estatística de teste: 6.632609367827264\n",
      "p-valor: 0.03628667503911057\n",
      "f-valor: 3.349920575806307\n",
      "f_p-valor: 0.03617822259041751\n"
     ]
    }
   ],
   "source": [
    "estatistica, p, f, fp = sms.het_breuschpagan (modelo2.resid, modelo2.model.exog)\n",
    "print('Estatística de teste: {}'.format(estatistica))\n",
    "print('p-valor: {}'.format(p))\n",
    "print('f-valor: {}'.format(f))\n",
    "print('f_p-valor: {}'.format(fp))"
   ]
  },
  {
   "cell_type": "code",
   "execution_count": 35,
   "metadata": {},
   "outputs": [
    {
     "ename": "SyntaxError",
     "evalue": "invalid syntax (652958551.py, line 1)",
     "output_type": "error",
     "traceback": [
      "\u001b[1;36m  Cell \u001b[1;32mIn[35], line 1\u001b[1;36m\u001b[0m\n\u001b[1;33m    **Outiliers nos resíduos**\u001b[0m\n\u001b[1;37m    ^\u001b[0m\n\u001b[1;31mSyntaxError\u001b[0m\u001b[1;31m:\u001b[0m invalid syntax\n"
     ]
    }
   ],
   "source": [
    "**Outiliers nos resíduos**\n",
    "\n",
    "(Entre -3 e 3)"
   ]
  },
  {
   "cell_type": "code",
   "execution_count": 36,
   "metadata": {},
   "outputs": [],
   "source": [
    "outliers = modelo2.outlier_test()"
   ]
  },
  {
   "cell_type": "code",
   "execution_count": 37,
   "metadata": {},
   "outputs": [
    {
     "data": {
      "text/plain": [
       "student_resid    2.240501\n",
       "unadj_p          0.999718\n",
       "bonf(p)          1.000000\n",
       "dtype: float64"
      ]
     },
     "execution_count": 37,
     "metadata": {},
     "output_type": "execute_result"
    }
   ],
   "source": [
    "outliers.max()"
   ]
  },
  {
   "cell_type": "code",
   "execution_count": 38,
   "metadata": {},
   "outputs": [
    {
     "data": {
      "text/plain": [
       "student_resid   -3.885508\n",
       "unadj_p          0.000121\n",
       "bonf(p)          0.044339\n",
       "dtype: float64"
      ]
     },
     "execution_count": 38,
     "metadata": {},
     "output_type": "execute_result"
    }
   ],
   "source": [
    "outliers.min()"
   ]
  },
  {
   "cell_type": "code",
   "execution_count": 39,
   "metadata": {},
   "outputs": [],
   "source": [
    "### **Ausência de Multicolinearidade**"
   ]
  },
  {
   "cell_type": "code",
   "execution_count": 40,
   "metadata": {},
   "outputs": [
    {
     "ename": "SyntaxError",
     "evalue": "invalid syntax (3589632239.py, line 1)",
     "output_type": "error",
     "traceback": [
      "\u001b[1;36m  Cell \u001b[1;32mIn[40], line 1\u001b[1;36m\u001b[0m\n\u001b[1;33m    Somente entre as variáveis **independentes**.\u001b[0m\n\u001b[1;37m            ^\u001b[0m\n\u001b[1;31mSyntaxError\u001b[0m\u001b[1;31m:\u001b[0m invalid syntax\n"
     ]
    }
   ],
   "source": [
    "Somente entre as variáveis **independentes**.\n",
    "Atenção a valores com r > 0,7\n",
    "Considerada multicolinearidade quando r > 0.9."
   ]
  },
  {
   "cell_type": "code",
   "execution_count": 41,
   "metadata": {},
   "outputs": [],
   "source": [
    "variaveis = cerveja[['Temperatura_Maxima', 'Final_de_Semana']]"
   ]
  },
  {
   "cell_type": "code",
   "execution_count": 42,
   "metadata": {},
   "outputs": [],
   "source": [
    "correlacoes = variaveis.corr()"
   ]
  },
  {
   "cell_type": "code",
   "execution_count": 43,
   "metadata": {},
   "outputs": [
    {
     "data": {
      "text/html": [
       "<div>\n",
       "<style scoped>\n",
       "    .dataframe tbody tr th:only-of-type {\n",
       "        vertical-align: middle;\n",
       "    }\n",
       "\n",
       "    .dataframe tbody tr th {\n",
       "        vertical-align: top;\n",
       "    }\n",
       "\n",
       "    .dataframe thead th {\n",
       "        text-align: right;\n",
       "    }\n",
       "</style>\n",
       "<table border=\"1\" class=\"dataframe\">\n",
       "  <thead>\n",
       "    <tr style=\"text-align: right;\">\n",
       "      <th></th>\n",
       "      <th>Temperatura_Maxima</th>\n",
       "      <th>Final_de_Semana</th>\n",
       "    </tr>\n",
       "  </thead>\n",
       "  <tbody>\n",
       "    <tr>\n",
       "      <th>Temperatura_Maxima</th>\n",
       "      <td>1.000000</td>\n",
       "      <td>-0.040258</td>\n",
       "    </tr>\n",
       "    <tr>\n",
       "      <th>Final_de_Semana</th>\n",
       "      <td>-0.040258</td>\n",
       "      <td>1.000000</td>\n",
       "    </tr>\n",
       "  </tbody>\n",
       "</table>\n",
       "</div>"
      ],
      "text/plain": [
       "                    Temperatura_Maxima  Final_de_Semana\n",
       "Temperatura_Maxima            1.000000        -0.040258\n",
       "Final_de_Semana              -0.040258         1.000000"
      ]
     },
     "execution_count": 43,
     "metadata": {},
     "output_type": "execute_result"
    }
   ],
   "source": [
    "correlacoes"
   ]
  }
 ],
 "metadata": {
  "colab": {
   "provenance": []
  },
  "kernelspec": {
   "display_name": "Python 3 (ipykernel)",
   "language": "python",
   "name": "python3"
  },
  "language_info": {
   "codemirror_mode": {
    "name": "ipython",
    "version": 3
   },
   "file_extension": ".py",
   "mimetype": "text/x-python",
   "name": "python",
   "nbconvert_exporter": "python",
   "pygments_lexer": "ipython3",
   "version": "3.11.7"
  }
 },
 "nbformat": 4,
 "nbformat_minor": 4
}
